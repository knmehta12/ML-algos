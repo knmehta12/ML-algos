{
 "cells": [
  {
   "cell_type": "code",
   "execution_count": 1,
   "metadata": {
    "execution": {
     "iopub.execute_input": "2021-08-15T17:24:51.345867Z",
     "iopub.status.busy": "2021-08-15T17:24:51.345290Z",
     "iopub.status.idle": "2021-08-15T17:24:53.073459Z",
     "shell.execute_reply": "2021-08-15T17:24:53.072334Z",
     "shell.execute_reply.started": "2021-08-15T17:24:51.345758Z"
    },
    "id": "Sn6sFLTQkswo"
   },
   "outputs": [],
   "source": [
    "#Importing file\n",
    "import tarfile\n",
    "import os\n",
    "\n",
    "#Shuffling\n",
    "import random\n",
    "\n",
    "#Data cleaning\n",
    "import re\n",
    "import string\n",
    "\n",
    "\n",
    "import numpy as np\n",
    "import pandas as pd\n",
    "\n",
    "#Tokenize and model\n",
    "import nltk\n",
    "from nltk.tokenize import word_tokenize\n",
    "from nltk.corpus import stopwords\n",
    "from sklearn.model_selection import train_test_split\n",
    "from sklearn.naive_bayes import MultinomialNB\n",
    "from sklearn.feature_extraction.text import CountVectorizer\n"
   ]
  },
  {
   "cell_type": "code",
   "execution_count": 2,
   "metadata": {
    "execution": {
     "iopub.execute_input": "2021-08-15T17:24:53.075439Z",
     "iopub.status.busy": "2021-08-15T17:24:53.075010Z",
     "iopub.status.idle": "2021-08-15T17:24:53.220163Z",
     "shell.execute_reply": "2021-08-15T17:24:53.219398Z",
     "shell.execute_reply.started": "2021-08-15T17:24:53.075407Z"
    },
    "id": "7gmgbEVDpdbg",
    "outputId": "06c53f6e-0481-4753-bef8-810378747f90"
   },
   "outputs": [
    {
     "name": "stderr",
     "output_type": "stream",
     "text": [
      "[nltk_data] Downloading package stopwords to\n",
      "[nltk_data]     C:\\Users\\knmeh\\AppData\\Roaming\\nltk_data...\n",
      "[nltk_data]   Unzipping corpora\\stopwords.zip.\n",
      "[nltk_data] Downloading package vader_lexicon to\n",
      "[nltk_data]     C:\\Users\\knmeh\\AppData\\Roaming\\nltk_data...\n"
     ]
    },
    {
     "data": {
      "text/plain": [
       "True"
      ]
     },
     "execution_count": 2,
     "metadata": {},
     "output_type": "execute_result"
    }
   ],
   "source": [
    "nltk.download('stopwords')\n",
    "nltk.download('vader_lexicon')"
   ]
  },
  {
   "cell_type": "code",
   "execution_count": 3,
   "metadata": {
    "execution": {
     "iopub.execute_input": "2021-08-15T17:24:53.222079Z",
     "iopub.status.busy": "2021-08-15T17:24:53.221633Z",
     "iopub.status.idle": "2021-08-15T17:24:53.227987Z",
     "shell.execute_reply": "2021-08-15T17:24:53.226898Z",
     "shell.execute_reply.started": "2021-08-15T17:24:53.222047Z"
    },
    "id": "c6NOgqLsnRrP"
   },
   "outputs": [],
   "source": [
    "def clean_text(text):\n",
    "#will replace the html characters with \" \"\n",
    "    text=re.sub('<.*?>', ' ', text)  \n",
    "    #To remove the punctuations\n",
    "    text = text.translate(str.maketrans(' ',' ',string.punctuation))\n",
    "    #will consider only alphabets and numerics\n",
    "    text = re.sub('[^a-zA-Z]',' ',text)  \n",
    "    #will replace newline with space\n",
    "    text = re.sub(\"\\n\",\" \",text)\n",
    "    #will convert to lower case\n",
    "    text = text.lower()\n",
    "    # will split and join the words\n",
    "    text=' '.join(text.split())\n",
    "    return text"
   ]
  },
  {
   "cell_type": "code",
   "execution_count": 4,
   "metadata": {
    "execution": {
     "iopub.execute_input": "2021-08-15T17:24:53.229946Z",
     "iopub.status.busy": "2021-08-15T17:24:53.229445Z",
     "iopub.status.idle": "2021-08-15T17:24:53.244773Z",
     "shell.execute_reply": "2021-08-15T17:24:53.243316Z",
     "shell.execute_reply.started": "2021-08-15T17:24:53.229894Z"
    },
    "id": "mQxEKWFZnWsG"
   },
   "outputs": [],
   "source": [
    "stop_words = set(stopwords.words('english'))\n",
    "remove_stop_words =  lambda text: ' '.join([word for word in text.split() if word not in (stop_words)])\n",
    "\n"
   ]
  },
  {
   "cell_type": "code",
   "execution_count": null,
   "metadata": {
    "execution": {
     "iopub.execute_input": "2021-08-15T17:24:53.246595Z",
     "iopub.status.busy": "2021-08-15T17:24:53.246293Z"
    },
    "id": "2eu-mzUUoIdk"
   },
   "outputs": [],
   "source": [
    "file = tarfile.open('../input/imdbdataset/imdb.tgz')\n",
    "  \n",
    "file.extractall('./imdb')\n",
    "  \n",
    "file.close()"
   ]
  },
  {
   "cell_type": "code",
   "execution_count": 9,
   "metadata": {
    "id": "vjqW3tQOoeV2"
   },
   "outputs": [],
   "source": [
    "pathneg='C:/XXX/imdb/train/neg'\n",
    "pathpos='C:/XXXX/imdb/train/pos'"
   ]
  },
  {
   "cell_type": "code",
   "execution_count": 12,
   "metadata": {
    "id": "e5aLotqzohZ2"
   },
   "outputs": [],
   "source": [
    "neg=[]\n",
    "pos=[]\n",
    "for x in os.listdir(pathneg):\n",
    "    f= open(pathneg + '/' + x, encoding=\"utf8\")\n",
    "    neg.append(f.read())\n",
    "\n",
    "for x in os.listdir(pathpos):\n",
    "    f= open(pathpos + '/' + x, encoding=\"utf8\")\n",
    "    pos.append(f.read())"
   ]
  },
  {
   "cell_type": "code",
   "execution_count": null,
   "metadata": {
    "id": "odYUKFsRojv-",
    "outputId": "7751bd68-db8f-4a57-b000-21e9735ba46c"
   },
   "outputs": [],
   "source": [
    "print(neg[0],pos[0])"
   ]
  },
  {
   "cell_type": "code",
   "execution_count": 13,
   "metadata": {
    "id": "vCLurrWLorue"
   },
   "outputs": [],
   "source": [
    "neglabels = [0 for x in neg]\n",
    "poslabels = [1 for x in pos]"
   ]
  },
  {
   "cell_type": "code",
   "execution_count": 14,
   "metadata": {
    "id": "dWgzQwmdowc2"
   },
   "outputs": [],
   "source": [
    "total_sentences = neg + pos\n",
    "total_labels = neglabels + poslabels"
   ]
  },
  {
   "cell_type": "code",
   "execution_count": 15,
   "metadata": {
    "id": "w90E5Eg0oylO"
   },
   "outputs": [],
   "source": [
    "for i in range(len(total_sentences)):\n",
    "    total_sentences[i] = total_sentences[i] + str(total_labels[i])"
   ]
  },
  {
   "cell_type": "code",
   "execution_count": 16,
   "metadata": {
    "id": "oUMWzIMRo1wy"
   },
   "outputs": [],
   "source": [
    "random.shuffle(total_sentences)\n",
    "total_labels = [int(total_sentences[i][-1]) for i in range(len(total_sentences))]"
   ]
  },
  {
   "cell_type": "code",
   "execution_count": 17,
   "metadata": {
    "id": "fH6YSXSDo4BW",
    "outputId": "7d473bd8-c41a-4b27-8908-97895244e3fd"
   },
   "outputs": [
    {
     "data": {
      "text/plain": [
       "'This is a pretty bad movie. The plot is sentimental mush. I suppose the production values are OK, decent photography, unobtrusive direction and all that. Mark Hamill was terrible. I\\'ve never cared much for him, and this movie validates that perception. It\\'s no wonder that he never really had any sort of career aside from his \"Star Wars\" films. I\\'ll just say \"Buh-bye, Mark\" as he sinks into well-deserved obscurity. On the other hand, a very young Annie Potts utterly stole the show. She showed charm, beauty, and acting chops all in one performance. I remember seeing her in \"Texasville\" recently and taking note of her beauty. It\\'s interesting seeing her from ten years earlier. Anyway, unless you are interested in Miss Potts, run away from this film screaming for the hills.'"
      ]
     },
     "execution_count": 17,
     "metadata": {},
     "output_type": "execute_result"
    }
   ],
   "source": [
    "# Removing label\n",
    "total_sentences= [i.rstrip(i[-1]) for i in total_sentences]\n",
    "total_sentences[0]"
   ]
  },
  {
   "cell_type": "code",
   "execution_count": 18,
   "metadata": {
    "id": "NqyU0yRQo-C-",
    "outputId": "ab7c3508-efc5-44f1-9892-fd5c0e7f187e"
   },
   "outputs": [
    {
     "data": {
      "text/plain": [
       "'this is a pretty bad movie the plot is sentimental mush i suppose the production values are ok decent photography unobtrusive direction and all that mark hamill was terrible ive never cared much for him and this movie validates that perception its no wonder that he never really had any sort of career aside from his star wars films ill just say buhbye mark as he sinks into welldeserved obscurity on the other hand a very young annie potts utterly stole the show she showed charm beauty and acting chops all in one performance i remember seeing her in texasville recently and taking note of her beauty its interesting seeing her from ten years earlier anyway unless you are interested in miss potts run away from this film screaming for the hills'"
      ]
     },
     "execution_count": 18,
     "metadata": {},
     "output_type": "execute_result"
    }
   ],
   "source": [
    "total_sentences = [clean_text(i) for i in total_sentences]\n",
    "total_sentences[0]"
   ]
  },
  {
   "cell_type": "code",
   "execution_count": 19,
   "metadata": {
    "id": "VyhpwUXQpAi_",
    "outputId": "9c568ec3-7eaf-46e7-a7f2-ea77a23077b0"
   },
   "outputs": [
    {
     "data": {
      "text/plain": [
       "'pretty bad movie plot sentimental mush suppose production values ok decent photography unobtrusive direction mark hamill terrible ive never cared much movie validates perception wonder never really sort career aside star wars films ill say buhbye mark sinks welldeserved obscurity hand young annie potts utterly stole show showed charm beauty acting chops one performance remember seeing texasville recently taking note beauty interesting seeing ten years earlier anyway unless interested miss potts run away film screaming hills'"
      ]
     },
     "execution_count": 19,
     "metadata": {},
     "output_type": "execute_result"
    }
   ],
   "source": [
    "total_sentences = [ remove_stop_words(i) for i in total_sentences]\n",
    "total_sentences[0]"
   ]
  },
  {
   "cell_type": "code",
   "execution_count": 20,
   "metadata": {
    "id": "u_3-J2vVsO9V"
   },
   "outputs": [],
   "source": [
    "words = []\n",
    "for i in total_sentences:\n",
    "    words.extend(i.split(\" \"))"
   ]
  },
  {
   "cell_type": "code",
   "execution_count": null,
   "metadata": {
    "id": "Ng5caSyTsAnH",
    "outputId": "f87aa653-9581-4cae-ef0f-c7fab6b36dad"
   },
   "outputs": [],
   "source": [
    "bigrams = (pd.Series(nltk.ngrams(words, 2)).value_counts())\n",
    "trigrams = (pd.Series(nltk.ngrams(words, 3)).value_counts())"
   ]
  },
  {
   "cell_type": "code",
   "execution_count": null,
   "metadata": {
    "id": "OBVXmIUfsS9M",
    "outputId": "abc5878f-2d87-40d8-b363-4027cae001d3"
   },
   "outputs": [],
   "source": [
    "bigrams[0:15]"
   ]
  },
  {
   "cell_type": "markdown",
   "metadata": {
    "id": "_yHoyEZ6swyn"
   },
   "source": [
    "Most of these are superlatives and that should make determining sentiment easier"
   ]
  },
  {
   "cell_type": "code",
   "execution_count": null,
   "metadata": {
    "id": "ZRSLmZEts2zP",
    "outputId": "78321576-1f26-4147-809b-ac2efef34be1"
   },
   "outputs": [],
   "source": [
    "trigrams[0:15]"
   ]
  },
  {
   "cell_type": "code",
   "execution_count": 21,
   "metadata": {
    "id": "glvkbZLjbk1n",
    "outputId": "e0b76630-2295-4d76-cfeb-bc3f09325819"
   },
   "outputs": [
    {
     "data": {
      "text/plain": [
       "{'neg': 0.103, 'neu': 0.862, 'pos': 0.035, 'compound': -0.8268}"
      ]
     },
     "execution_count": 21,
     "metadata": {},
     "output_type": "execute_result"
    }
   ],
   "source": [
    "from nltk.sentiment import SentimentIntensityAnalyzer\n",
    "sia = SentimentIntensityAnalyzer()\n",
    "sia.polarity_scores(\"\"\"i have no idea what these people were thinking when they made this film no plot very limited\n",
    " action and what is with the rd person commentary throughout the film instead of running around the planet to shoot on all \n",
    " of these locations they should have spent some money on script writing and actors what acting there was was lousy this was minutes\n",
    "  of my life i will never be able to get back i should bill the director for the cost of renting this film to the director and \n",
    "  the writers of this filmplease quit now this film should have a tag on the front of it saying beware of boredom the only\n",
    " good thing i can say about this film is the computer generation its ok as generation is this movie should never have a sequelever\"\"\")"
   ]
  },
  {
   "cell_type": "markdown",
   "metadata": {},
   "source": [
    "Not very Reliable since this is clearly very negative"
   ]
  },
  {
   "cell_type": "code",
   "execution_count": 22,
   "metadata": {
    "id": "8pJBnM_jctSX"
   },
   "outputs": [
    {
     "data": {
      "text/plain": [
       "MultinomialNB()"
      ]
     },
     "execution_count": 22,
     "metadata": {},
     "output_type": "execute_result"
    }
   ],
   "source": [
    "X_train = total_sentences\n",
    "y_train= total_labels\n",
    "vec = CountVectorizer(stop_words='english')\n",
    "X_train = vec.fit_transform(X_train).toarray()\n",
    "model = MultinomialNB()\n",
    "model.fit(X_train, y_train)"
   ]
  },
  {
   "cell_type": "code",
   "execution_count": 23,
   "metadata": {},
   "outputs": [
    {
     "data": {
      "text/plain": [
       "array([1])"
      ]
     },
     "execution_count": 23,
     "metadata": {},
     "output_type": "execute_result"
    }
   ],
   "source": [
    "model.predict(vec.transform([\"\"\"\n",
    "This is an old-fashioned movie that adheres to admittedly familiar principles of storytelling and emotional stakes, \n",
    "but by way of such a winning cast, evocative atmosphere and genuine tone that its impossible not to love. \n",
    "For audiences weary of superheroic bombast and worn out from puzzling through art house arcana, \n",
    "             “CODA” is here to save the day. It’s sweet, funny, meaningful and accessible in precisely the right measure.\n",
    "\"\"\"]))"
   ]
  },
  {
   "cell_type": "code",
   "execution_count": null,
   "metadata": {},
   "outputs": [],
   "source": [
    "X_train.shape"
   ]
  },
  {
   "cell_type": "code",
   "execution_count": 29,
   "metadata": {},
   "outputs": [],
   "source": [
    "negtest=[]\n",
    "postest=[]\n",
    "negpath= 'C:/XXXX/imdb/test/neg/'\n",
    "for x in os.listdir(negpath):\n",
    "    f= open(negpath+ x,encoding = \"utf-8\")\n",
    "    negtest.append(f.read())\n",
    "pospath='C:/XXXX/imdb/test/pos/'\n",
    "for x in os.listdir(pospath):\n",
    "    f= open(pospath + x,encoding = \"utf-8\")\n",
    "    postest.append(f.read())"
   ]
  },
  {
   "cell_type": "code",
   "execution_count": 30,
   "metadata": {},
   "outputs": [],
   "source": [
    "negtestlabels = [0 for x in negtest]\n",
    "postestlabels = [1 for x in postest]"
   ]
  },
  {
   "cell_type": "code",
   "execution_count": 31,
   "metadata": {},
   "outputs": [],
   "source": [
    "test_sentences = negtest + postest\n",
    "test_labels = negtestlabels + postestlabels"
   ]
  },
  {
   "cell_type": "code",
   "execution_count": 32,
   "metadata": {},
   "outputs": [],
   "source": [
    "test_sentences = [clean_text(i) for i in test_sentences]\n",
    "test_sentences = [ remove_stop_words(i) for i in test_sentences]"
   ]
  },
  {
   "cell_type": "code",
   "execution_count": 34,
   "metadata": {},
   "outputs": [],
   "source": [
    "X_test = test_sentences[12300:13500]\n",
    "y_test= test_labels[12300:13500]\n",
    "X_test =  vec.transform(X_test).toarray()\n",
    "preds=model.predict(X_test)"
   ]
  },
  {
   "cell_type": "code",
   "execution_count": 36,
   "metadata": {},
   "outputs": [
    {
     "data": {
      "text/plain": [
       "0.81"
      ]
     },
     "execution_count": 36,
     "metadata": {},
     "output_type": "execute_result"
    }
   ],
   "source": [
    "from sklearn.metrics import accuracy_score\n",
    "accuracy_score(y_test, preds)"
   ]
  },
  {
   "cell_type": "code",
   "execution_count": null,
   "metadata": {},
   "outputs": [],
   "source": [
    "We only used 12300:13500 because test dataset has 25000 samples and "
   ]
  },
  {
   "cell_type": "code",
   "execution_count": null,
   "metadata": {},
   "outputs": [],
   "source": []
  }
 ],
 "metadata": {
  "kernelspec": {
   "display_name": "Python 3",
   "language": "python",
   "name": "python3"
  },
  "language_info": {
   "codemirror_mode": {
    "name": "ipython",
    "version": 3
   },
   "file_extension": ".py",
   "mimetype": "text/x-python",
   "name": "python",
   "nbconvert_exporter": "python",
   "pygments_lexer": "ipython3",
   "version": "3.8.5"
  }
 },
 "nbformat": 4,
 "nbformat_minor": 4
}
